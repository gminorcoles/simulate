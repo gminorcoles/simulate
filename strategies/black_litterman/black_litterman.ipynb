{
 "cells": [
  {
   "cell_type": "markdown",
   "metadata": {},
   "source": [
    "# 1. 概述\n",
    "\n",
    "---\n",
    "\n",
    "- 资产配置解决的问题是：怎样在不同的资产上分配资金\n",
    "- 在进行资产配置时，最经典运用也最广泛的当属Harry Markowitz的均值-方差分析理论，但是均方差优化有个关键的输入变量——预期收益率，而优化的组合权重对预期收益率又特别的敏感，导致均值-方差分析存在一定的缺陷。Black-Litterman模型是对MVO的一个扩展，其主要的贡献是提供了一个理论框架，能够将市场均衡收益和**个人观点**整合到一块，用以重新估计更可靠的预期收益率，然后将预期收益率带入均值-方差分析，得出最优资产配置。\n",
    "\n",
    "- 本文给出了一系列可以直接用于计算基于Black-Litterman模型的最优投资组合的函数，包括\n",
    "    - describe(return_table, is_print=True)\n",
    "    - get_BL_efficient_frontier(return_table,tau=0.05,P=None,Q=None,Omega=None,allow_short=False, n_samples=25)\n",
    "    - draw_efficient_frontier(effcient_frontier_output)\n",
    "    - get_BL_minimum_variance_portfolio(return_table,tau=0.05,P=None,Q=None,Omega=None, allow_short=False, show_details=True)\n",
    "    - get_BL_maximum_utility_portfolio(return_table,tau=0.05,P=None,Q=None,Omega=None, risk_aversion=3., allow_short=False, show_details=True)\n",
    "    - get_maximum_sharpe_portfolio(return_table, riskfree_rate=0.,tau=0.05,P=None,Q=None,Omega=None,allow_short=False, show_details=True)"
   ]
  },
  {
   "cell_type": "markdown",
   "metadata": {},
   "source": [
    "# 2. Black-Litterman模型简介\n",
    "\n",
    "---\n",
    "\n",
    "- 传统均值-方差分析基于以下假设\n",
    "\t- a) 所有资产的收益率都满足正态分布 或者 b) 投资者只关心收益的均值和方差（即一阶矩和二阶矩）\n",
    "\t- 用于分析的所有资产都是可交易的，这里的可交易是指可以进行任意数量的做多和做空\n",
    "\t- 没有交易成本\n",
    "- 在以上假设下，均值方差优化会出现不合情理的配置：无限制条件下，会出现对某些资产的强烈卖空，当有卖空限制时，某些资产的配置为零，同时在某些小市值资产配有较大的权重。问题的原因有：\n",
    "    - 期望收益非常难以估计，一个标准的优化模型，需要对所有资产都有收益估计，因此投资者就会基于他们常用的历史收益和一系列假设条件进行估计，导致不正确估计的产生。\n",
    "    - 组合权重对收益估计的变动非常敏感。\n",
    "    - 传统模型无法区分不同可信度的观点，观点不能很好被模型所表达。\n",
    "    \n",
    "-  B-L 模型在均衡收益基础上通过**投资者观点修正了期望收益**，使得均值方差组合优化中的期望收益更为合理，而且还将投资者观点融入进了模型，在一定程度上是对马克维兹均值方差组合理论的改进。主要思路如下：\n",
    "\t- (1) 计算得到先验的期望收益\n",
    "\t- (2) 个人观点模型化，观点可以涉及单个资产，也可以涉及多个资产乃至所有资产，也可以有多个资产，最后按照一定的规则将所有观点构建成矩阵P、Q和Ω\n",
    "    - (3) 计算整合后调整的预期收益率、调整后的收益率方差\n",
    "$$ \\widehat \\Pi = \\Pi +τΣP'(Ω+τ PΣP')^{-1}(Q− PΠ)$$\t$$ \\ M = \\tau\\Sigma - \\tau \\Sigma P'[P \\Sigma P' + \\Omega]^{-1}P\\tau \\Sigma$$\n",
    "$$ \\Sigma_p = \\Sigma + M$$\n",
    "\t- (4) 根据调整后的期望收益，利用均值方差模型计算最优权重。\n",
    "    $$ \\widehat w =  (\\delta \\Sigma_p)^{-1} \\widehat \\Pi  (无卖空约束情况)$$ \n",
    "    \n",
    "- 参数解释：\n",
    "\t- $\\Pi$为先验的期望收益，通过历史平均年化收益得到\n",
    "\t- $\\widehat \\Pi$为个人观点调整后的期望收益\n",
    "\t- $\\Sigma$为资产收益率之间的协方差矩阵\n",
    "\t- $M$为后验分布预期收益率的方差\n",
    "\t- $\\Sigma_p$为调整后预期收益率方差\n",
    "\t- $\\tau$为均衡收益方差的刻度值，体现了对个人观点在总体估计中的权重，通常取值在0.025~0.05\n",
    "\t- $\\delta$为风险厌恶系数(risk averse)\t\n",
    "\t- $\\widehat w$为调整后的资产配置权重 \n",
    "\t- $P 、Q 、\\Omega$为观点矩阵"
   ]
  },
  {
   "cell_type": "markdown",
   "metadata": {},
   "source": [
    "# 2. 个人观点矩阵生成示例：\n",
    "\n",
    "---\n",
    "\n",
    "- 考虑有K个观点n个资产的例子，此时，P就是k\\*n矩阵，每一行代表一个观点，Q为K\\*1矩阵，存放每个观点的超额收益。Ω是k\\*k对角矩阵，对角线上的每一个元素代表该观点的方差，与对该观点的置信程度成反比，在学术界常用的公式是：$$  \\Omega = P\\tau \\Sigma P^{T}$$\n",
    "\n",
    "- 假设有4种资产、2个观点\n",
    "\t- 观点一：资产1比资产3的预期收益率要多2%，置信度为w1；\n",
    "\t- 观点二：资产2的预期收益率为3%，置信度为w2。由于资产4没有任何观点，所以资产4的预期收益不需要调整，随后得出如下矩阵：\n",
    "$$  P = \\begin{pmatrix} 1 & 0 & -1 & 0 \\\\ 0 & 1 & 0& 0  \\end{pmatrix}$$\n",
    "$$  Q = \\begin{pmatrix} 2 \\\\ 3\\end{pmatrix}$$\n",
    "$$  \\Omega = \\begin{pmatrix} w_1 & 0 \\\\ 0 & w_2\\end{pmatrix}$$"
   ]
  },
  {
   "cell_type": "markdown",
   "metadata": {},
   "source": [
    "# 3. 函数源码\n",
    "\n",
    "---"
   ]
  },
  {
   "cell_type": "code",
   "execution_count": null,
   "metadata": {
    "collapsed": false
   },
   "outputs": [],
   "source": [
    "def describe(return_table, is_print=True):\n",
    "    \"\"\"\n",
    "    输出收益率矩阵的描述性统计量，包括：\n",
    "        年化收益率\n",
    "        年化标准差\n",
    "        相关系数矩阵\n",
    "    \n",
    "    Args:\n",
    "        return_table (DataFrame): 收益率矩阵，列为资产，值为按日期升序排列的收益率\n",
    "        is_print (bool): 是否直接输出\n",
    "\n",
    "    Returns:\n",
    "        dict: 描述性统计量字典，键为\"annualized_return\", \"annualized_volatility\", \"covariance_matrix\"和\"coefficient_matrix\"\n",
    "\n",
    "    Examples:\n",
    "        >> describe(return_table)\n",
    "        >> describe(return_table, is_print=True)\n",
    "    \"\"\"\n",
    "    import numpy as np\n",
    "    import pandas as pd\n",
    "    from scipy.stats.mstats import gmean\n",
    "    \n",
    "    output = {}\n",
    "    output['annualized_return'] = pd.DataFrame(dict(zip(return_table.columns, gmean(return_table+1.)**252 - 1.)), index=[0], columns=return_table.columns)\n",
    "    output['annualized_volatility'] = pd.DataFrame(return_table.std() * np.sqrt(250)).T\n",
    "    output['covariance_matrix'] = return_table.cov() * 250.\n",
    "    output['coefficient_matrix'] = return_table.corr()\n",
    "        \n",
    "    if is_print:\n",
    "        for key, val in output.iteritems():\n",
    "            print \"{}:\\n{}\\n\".format(key, val)\n",
    "    \n",
    "    return output"
   ]
  },
  {
   "cell_type": "code",
   "execution_count": null,
   "metadata": {
    "collapsed": false
   },
   "outputs": [],
   "source": [
    "def get_BL_efficient_frontier(return_table,tau=0.05,P=None,Q=None,Omega=None,allow_short=False, n_samples=25):\n",
    "    \"\"\"\n",
    "    计算Efficient Frontier\n",
    "    \n",
    "    Args:\n",
    "        return_table (DataFrame): 收益率矩阵，列为资产，值为按日期升序排列的收益率\n",
    "        n_samples (int): 用于计算Efficient Frontier的采样点数量\n",
    "        P(np.array): 观点矩阵\n",
    "        Q(np.array): 观点收益矩阵\n",
    "        Omega(np.array): 观点置信度矩阵\n",
    "        tau(float): 为均衡收益方差的刻度值，体现了对个人观点在总体估计中的权重\n",
    "\n",
    "    Returns:\n",
    "        DataFrame: Efficient Frontier的结果，列为\"returns\", \"risks\", \"weights\"\n",
    "    \"\"\"\n",
    "    \n",
    "    import numpy as np\n",
    "    import pandas as pd\n",
    "    from cvxopt import matrix, solvers\n",
    "    \n",
    "    assets = return_table.columns\n",
    "    n_asset = len(assets)\n",
    "    if n_asset < 2:\n",
    "        raise ValueError(\"There must be at least 2 assets to calculate the efficient frontier!\")\n",
    "\n",
    "    output = describe(return_table, is_print=False)\n",
    "    covmat =(output['covariance_matrix'])\n",
    "    expected_return = output['annualized_return'].iloc[0, :]\n",
    "    \n",
    "    # 求解调整后的期望收益、方差\n",
    "    adjustedReturn = expected_return + tau*covmat.dot(P.transpose()).dot(np.linalg.inv(Omega+tau*(P.dot(covmat).dot(P.transpose())))).dot(Q - P.dot(expected_return))\n",
    "    right = (tau)*covmat.dot(P.transpose()).dot(np.linalg.inv(Omega+P.dot(covmat).dot(P.transpose()))).dot(P.dot(tau*covmat))\n",
    "    right = right.transpose()\n",
    "    right = right.set_index(expected_return.index)\n",
    "    M = tau*covmat - right\n",
    "    Sigma_p = covmat + M\n",
    "    adjustedReturn = adjustedReturn.as_matrix()\n",
    "    Sigma_p = matrix(Sigma_p.as_matrix())\n",
    "\t\n",
    "    risks, returns, weights = [], [], []\n",
    "    for level_return in np.linspace(min(adjustedReturn), max(adjustedReturn), n_samples):\n",
    "        P = 2 * Sigma_p\n",
    "        q = matrix(np.zeros(n_asset))\n",
    "        \n",
    "        if allow_short:\n",
    "            G = matrix(0., (n_asset, n_asset))\n",
    "        else:\n",
    "            G = matrix(np.diag(-1 * np.ones(n_asset)))\n",
    "        \n",
    "        h = matrix(0., (n_asset, 1))    \n",
    "        A = matrix(np.row_stack((np.ones(n_asset), adjustedReturn)))\n",
    "        b = matrix([1.0, level_return])\n",
    "        solvers.options['show_progress'] = False\n",
    "        sol = solvers.qp(P, q, G, h, A, b)\n",
    "        risks.append(np.sqrt(sol['primal objective']))\n",
    "        returns.append(level_return)\n",
    "        weights.append(dict(zip(assets, list(sol['x'].T))))\n",
    "    \n",
    "    output = {\"returns\": returns,\n",
    "              \"risks\": risks,\n",
    "              \"weights\": weights}\n",
    "    output = pd.DataFrame(output)\n",
    "    return output"
   ]
  },
  {
   "cell_type": "code",
   "execution_count": null,
   "metadata": {
    "collapsed": false
   },
   "outputs": [],
   "source": [
    "def draw_efficient_frontier(effcient_frontier_output):\n",
    "    \"\"\"\n",
    "    绘出Efficient Frontier\n",
    "    \n",
    "    Args:\n",
    "        effcient_frontier_output: Efficient Frontier的计算结果，即get_efficient_frontier的输出\n",
    "    \"\"\"\n",
    "\n",
    "    import seaborn\n",
    "    from matplotlib import pyplot as plt\n",
    "\n",
    "    fig = plt.figure(figsize=(7, 4))\n",
    "    ax = fig.add_subplot(111)\n",
    "    ax.plot(effcient_frontier_output['risks'], effcient_frontier_output['returns'])\n",
    "    ax.set_title('Efficient Frontier', fontsize=14)\n",
    "    ax.set_xlabel('Standard Deviation', fontsize=12)\n",
    "    ax.set_ylabel('Expected Return', fontsize=12)\n",
    "    ax.tick_params(labelsize=12)\n",
    "    plt.show()"
   ]
  },
  {
   "cell_type": "code",
   "execution_count": null,
   "metadata": {
    "collapsed": false
   },
   "outputs": [],
   "source": [
    "def get_BL_minimum_variance_portfolio(return_table,tau=0.05,P=None,Q=None,Omega=None, allow_short=False, show_details=True):\n",
    "    \"\"\"\n",
    "    计算最小方差组合\n",
    "    \n",
    "    Args:\n",
    "        return_table (DataFrame): 收益率矩阵，列为资产，值为按日期升序排列的收益率\n",
    "        allow_short (bool): 是否允许卖空\n",
    "        show_details (bool): 是否显示细节\n",
    "        P(np.array): 观点矩阵\n",
    "        Q(np.array): 观点收益矩阵\n",
    "        Omega(np.array): 观点置信度矩阵\n",
    "        tau(float): 为均衡收益方差的刻度值，体现了对个人观点在总体估计中的权重\n",
    "\n",
    "    Returns:\n",
    "        dict: 最小方差组合的权重信息，键为资产名，值为权重\n",
    "    \"\"\"\n",
    "    \n",
    "    import numpy as np\n",
    "    from cvxopt import matrix, solvers\n",
    "    \n",
    "    assets = return_table.columns\n",
    "    n_asset = len(assets)\n",
    "    if n_asset < 2:\n",
    "        weights = np.array([1.])\n",
    "        weights_dict = {assets[0]: 1.}\n",
    "    else:\n",
    "        output = describe(return_table, is_print=False)\n",
    "        covmat =(output['covariance_matrix'])\n",
    "        expected_return = output['annualized_return'].iloc[0, :]\n",
    "    \n",
    "        # 求解调整后的期望收益、方差\n",
    "        adjustedReturn = expected_return + tau*covmat.dot(P.transpose()).dot(np.linalg.inv(Omega+tau*(P.dot(covmat).dot(P.transpose())))).dot(Q - P.dot(expected_return))\n",
    "        right = (tau)*covmat.dot(P.transpose()).dot(np.linalg.inv(Omega+P.dot(covmat).dot(P.transpose()))).dot(P.dot(tau*covmat))\n",
    "        right = right.transpose()\n",
    "        right = right.set_index(expected_return.index)\n",
    "        M = tau*covmat - right\n",
    "        Sigma_p = covmat + M\n",
    "        adjustedReturn = adjustedReturn.as_matrix()\n",
    "        Sigma_p = matrix(Sigma_p.as_matrix())\n",
    "\n",
    "        P = 2 * Sigma_p\n",
    "        q = matrix(np.zeros(n_asset))\n",
    "\n",
    "        if allow_short:\n",
    "            G = matrix(0., (n_asset, n_asset))\n",
    "        else:\n",
    "            G = matrix(np.diag(-1 * np.ones(n_asset)))\n",
    "        \n",
    "        h = matrix(0., (n_asset, 1))\n",
    "        A = matrix(np.ones(n_asset)).T\n",
    "        b = matrix([1.0])\n",
    "        solvers.options['show_progress'] = False\n",
    "        sol = solvers.qp(P, q, G, h, A, b)\n",
    "        weights = np.array(sol['x'].T)[0]\n",
    "        weights_dict = dict(zip(assets, weights))\n",
    "\n",
    "    r = np.dot(weights, output['annualized_return'].iloc[0, :].as_matrix())\n",
    "    v = np.sqrt(np.dot(np.dot(weights, Sigma_p), weights.T))\n",
    "\n",
    "    if show_details:\n",
    "        print \"\"\"\n",
    "Minimum Variance Portfolio:\n",
    "    Short Allowed: {}\n",
    "    Portfolio Return: {}\n",
    "    Portfolio Volatility: {}\n",
    "    Portfolio Weights: {}\n",
    "\"\"\".format(allow_short, r, v, \"\\n\\t{}\".format(\"\\n\\t\".join(\"{}: {:.1%}\".format(k, v) for k, v in weights_dict.items()))).strip()\n",
    "    \n",
    "    return weights_dict"
   ]
  },
  {
   "cell_type": "code",
   "execution_count": null,
   "metadata": {
    "collapsed": false
   },
   "outputs": [],
   "source": [
    "def get_BL_maximum_utility_portfolio(return_table,tau=0.05,P=None,Q=None,Omega=None, risk_aversion=3., allow_short=False, show_details=True):\n",
    "    \"\"\"\n",
    "    计算最大效用组合，目标函数为：期望年化收益率 - 风险厌恶系数 * 期望年化方差\n",
    "    \n",
    "    Args:\n",
    "        return_table (DataFrame): 收益率矩阵，列为资产，值为按日期升序排列的收益率\n",
    "        risk_aversion (float): 风险厌恶系数，越大表示对风险越厌恶，默认为3.0\n",
    "        allow_short (bool): 是否允许卖空\n",
    "        show_details (bool): 是否显示细节\n",
    "        P(np.array): 观点矩阵\n",
    "        Q(np.array): 观点收益矩阵\n",
    "        Omega(np.array): 观点置信度矩阵\n",
    "        tau(float): 为均衡收益方差的刻度值，体现了对个人观点在总体估计中的权重\n",
    "\n",
    "    Returns:\n",
    "        dict: 最小方差组合的权重信息，键为资产名，值为权重\n",
    "    \"\"\"\n",
    "    \n",
    "    import numpy as np\n",
    "    from cvxopt import matrix, solvers\n",
    "\n",
    "    assets = return_table.columns\n",
    "    n_asset = len(assets)\n",
    "    if n_asset < 2:\n",
    "        weights = np.array([1.])\n",
    "        weights_dict = {assets[0]: 1.}\n",
    "    else:\n",
    "        output = describe(return_table, is_print=False)\n",
    "        covmat =(output['covariance_matrix'])\n",
    "        expected_return = output['annualized_return'].iloc[0, :]\n",
    "    \n",
    "        # 求解调整后的期望收益、方差\n",
    "        adjustedReturn = expected_return + tau*covmat.dot(P.transpose()).dot(np.linalg.inv(Omega+tau*(P.dot(covmat).dot(P.transpose())))).dot(Q - P.dot(expected_return))\n",
    "        right = (tau)*covmat.dot(P.transpose()).dot(np.linalg.inv(Omega+P.dot(covmat).dot(P.transpose()))).dot(P.dot(tau*covmat))\n",
    "        right = right.transpose()\n",
    "        right = right.set_index(expected_return.index)\n",
    "        M = tau*covmat - right\n",
    "        Sigma_p = covmat + M\n",
    "        adjustedReturn = adjustedReturn.as_matrix()\n",
    "        Sigma_p = matrix(Sigma_p.as_matrix())\n",
    "\n",
    "        if abs(risk_aversion) < 0.01:\n",
    "            max_ret = max(adjustedReturn)\n",
    "            weights = np.array([1. if adjustedReturn[i] == max_ret else 0. for i in range(n_asset)])\n",
    "            weights_dict = {asset: weights[i] for i, asset in enumerate(assets)}\n",
    "        else:\n",
    "            P = risk_aversion * Sigma_p\n",
    "            q = matrix(-adjustedReturn.T)\n",
    "\n",
    "            if allow_short:\n",
    "                G = matrix(0., (n_asset, n_asset))\n",
    "            else:\n",
    "                G = matrix(np.diag(-1 * np.ones(n_asset)))\n",
    "\n",
    "            h = matrix(0., (n_asset, 1))\n",
    "            A = matrix(np.ones(n_asset)).T\n",
    "            b = matrix([1.0])\n",
    "            solvers.options['show_progress'] = False\n",
    "            sol = solvers.qp(P, q, G, h, A, b)\n",
    "            weights = np.array(sol['x'].T)[0]\n",
    "            weights_dict = dict(zip(assets, weights))\n",
    "\n",
    "    r = np.dot(weights, output['annualized_return'].iloc[0, :].as_matrix())\n",
    "    v = np.sqrt(np.dot(np.dot(weights, Sigma_p), weights.T))\n",
    "    \n",
    "    if show_details:\n",
    "        print \"\"\"\n",
    "Maximum Utility Portfolio:\n",
    "    Risk Aversion: {}\n",
    "    Short Allowed: {}\n",
    "    Portfolio Return: {}\n",
    "    Portfolio Volatility: {}\n",
    "    Portfolio Weights: {}\n",
    "\"\"\".format(risk_aversion, allow_short, r, v, \"\\n\\t{}\".format(\"\\n\\t\".join(\"{}: {:.1%}\".format(k, v) for k, v in weights_dict.items()))).strip()\n",
    "    \n",
    "    return weights_dict"
   ]
  },
  {
   "cell_type": "code",
   "execution_count": null,
   "metadata": {
    "collapsed": false
   },
   "outputs": [],
   "source": [
    "def get_maximum_sharpe_portfolio(return_table, riskfree_rate=0.,tau=0.05,P=None,Q=None,Omega=None,allow_short=False, show_details=True):\n",
    "    \"\"\"\n",
    "    计算最大效用组合，目标函数为：（期望年化收益率 - 无风险收益率）/ 期望年化方差\n",
    "    \n",
    "    Args:\n",
    "        return_table (DataFrame): 收益率矩阵，列为资产，值为按日期升序排列的收益率\n",
    "        riskfree_rate (float): 无风险收益率\n",
    "        allow_short (bool): 是否允许卖空\n",
    "        show_details (bool): 是否显示细节\n",
    "        P(np.array): 观点矩阵\n",
    "        Q(np.array): 观点收益矩阵\n",
    "        Omega(np.array): 观点置信度矩阵\n",
    "        tau(float): 为均衡收益方差的刻度值，体现了对个人观点在总体估计中的权重\n",
    "\n",
    "    Returns:\n",
    "        dict: 最小方差组合的权重信息，键为资产名，值为权重\n",
    "    \"\"\"\n",
    "    \n",
    "    import numpy as np\n",
    "    from cvxopt import matrix, solvers\n",
    "\n",
    "    assets = return_table.columns\n",
    "    n_asset = len(assets)\n",
    "    if n_asset < 2:\n",
    "        output = describe(return_table, is_print=False)\n",
    "        r = output['annualized_return'].iat[0, 0]\n",
    "        v = output['annualized_volatility'].iat[0, 0]\n",
    "        weights_dict = {assets[0]: 1.}\n",
    "    else:\n",
    "        efs = get_BL_efficient_frontier(return_table,tau,P=P,Q=Q,Omega=Omega,allow_short=allow_short, n_samples=100)\n",
    "        i_star = max(range(100), key=lambda x: (efs.at[x, \"returns\"] - riskfree_rate) / efs.at[x, \"risks\"])\n",
    "        r = efs.at[i_star, \"returns\"]\n",
    "        v = efs.at[i_star, \"risks\"]\n",
    "        weights_dict = efs.at[i_star, \"weights\"]\n",
    "\n",
    "    s = (r - riskfree_rate) / v\n",
    "    \n",
    "    if show_details:\n",
    "        print \"\"\"\n",
    "Maximum Sharpe Portfolio:\n",
    "    Riskfree Rate: {}\n",
    "    Short Allowed: {}\n",
    "    Portfolio Return: {}\n",
    "    Portfolio Volatility: {}\n",
    "    Portfolio Sharpe: {}\n",
    "    Portfolio Weights: {}\n",
    "\"\"\".format(riskfree_rate, allow_short, r, v, s, \"\\n\\t{}\".format(\"\\n\\t\".join(\"{}: {:.1%}\".format(k, v) for k, v in weights_dict.items()))).strip()\n",
    "    \n",
    "    return weights_dict"
   ]
  },
  {
   "cell_type": "markdown",
   "metadata": {},
   "source": [
    "# 4. 使用示例\n",
    "\n",
    "---"
   ]
  },
  {
   "cell_type": "markdown",
   "metadata": {},
   "source": [
    "- 选取的标为：沪深300指数、中证500指数、创业板指、国债指数、企业债指数，历史数据范围为 20130101 - 20160630"
   ]
  },
  {
   "cell_type": "code",
   "execution_count": null,
   "metadata": {
    "collapsed": false
   },
   "outputs": [],
   "source": [
    "import numpy as np\n",
    "import pandas as pd\n",
    "from cvxopt import matrix, solvers\n",
    "start = '20130101'\n",
    "end = '20160630'\n",
    "indices = ['000300.ZICN', '000905.ZICN', '399006.ZICN', '000012.ZICN','000013.ZICN']\n",
    "df = DataAPI.MktIdxdGet(indexID=indices, beginDate=start, endDate=end, field=\"tradeDate,indexID,closeIndex\")\n",
    "df = df.pivot(index=\"tradeDate\", columns=\"indexID\", values=\"closeIndex\")\n",
    "for index in indices:\n",
    "    df[index] = df[index] / df[index].shift() - 1.\n",
    "return_table = df.dropna()"
   ]
  },
  {
   "cell_type": "code",
   "execution_count": null,
   "metadata": {
    "collapsed": false
   },
   "outputs": [
    {
     "data": {
      "text/plain": [
       "{'annualized_return': indexID  000012.ZICN  000013.ZICN  000300.ZICN  000905.ZICN  399006.ZICN\n",
       " 0           0.045391     0.075276     0.068566     0.206761     0.408574,\n",
       " 'annualized_volatility': indexID  000012.ZICN  000013.ZICN  000300.ZICN  000905.ZICN  399006.ZICN\n",
       " 0           0.007538     0.005588     0.284462     0.325829     0.384782,\n",
       " 'coefficient_matrix': indexID      000012.ZICN  000013.ZICN  000300.ZICN  000905.ZICN  399006.ZICN\n",
       " indexID                                                                     \n",
       " 000012.ZICN     1.000000     0.222367     0.021870     0.036328     0.011754\n",
       " 000013.ZICN     0.222367     1.000000     0.067921     0.095261     0.083447\n",
       " 000300.ZICN     0.021870     0.067921     1.000000     0.844756     0.649674\n",
       " 000905.ZICN     0.036328     0.095261     0.844756     1.000000     0.881214\n",
       " 399006.ZICN     0.011754     0.083447     0.649674     0.881214     1.000000,\n",
       " 'covariance_matrix': indexID      000012.ZICN  000013.ZICN  000300.ZICN  000905.ZICN  399006.ZICN\n",
       " indexID                                                                     \n",
       " 000012.ZICN     0.000057     0.000009     0.000047     0.000089     0.000034\n",
       " 000013.ZICN     0.000009     0.000031     0.000108     0.000173     0.000179\n",
       " 000300.ZICN     0.000047     0.000108     0.080919     0.078297     0.071111\n",
       " 000905.ZICN     0.000089     0.000173     0.078297     0.106164     0.110480\n",
       " 399006.ZICN     0.000034     0.000179     0.071111     0.110480     0.148057}"
      ]
     },
     "execution_count": 8,
     "metadata": {},
     "output_type": "execute_result"
    }
   ],
   "source": [
    "describe(return_table, is_print=False)"
   ]
  },
  {
   "cell_type": "markdown",
   "metadata": {},
   "source": [
    "- 生成观点矩阵P、Q、Omega，我们知道历史数据由于包含了14-15牛市，历史平均收益偏高，尤其创业板，对于刚经历3轮股灾的现在，显然要调整股市的期望收益。给出下面3个观点：\n",
    "\t- 观点1： 中证500的收益率超过沪深300收益5%(相比原来差距的近20%显著下调)\n",
    "\t- 观点2： HS300的收益率高于国债1%，（相对原来差距微调）\n",
    "\t- 观点3：创业板指收益比企业债指数高5%（相比原来差距近33%显著下调）"
   ]
  },
  {
   "cell_type": "code",
   "execution_count": null,
   "metadata": {
    "collapsed": false
   },
   "outputs": [
    {
     "name": "stdout",
     "output_type": "stream",
     "text": [
      "P: [[-1  1  0  0  0]\n",
      " [ 1  0  0 -1  0]\n",
      " [ 0  0  1  0 -1]]\n",
      "Q: [ 0.05  0.01  0.05]\n",
      "Omega: [[  3.46573857e-06   0.00000000e+00   0.00000000e+00]\n",
      " [  0.00000000e+00   5.30213659e-03   0.00000000e+00]\n",
      " [  0.00000000e+00   0.00000000e+00   4.33772981e-03]]\n"
     ]
    }
   ],
   "source": [
    "output = describe(return_table, is_print=False)\n",
    "covariance_matrix = output['covariance_matrix']\n",
    "expected_return = output['annualized_return'].iloc[0, :]\n",
    "tau = 0.05 \n",
    "\n",
    "P = np.array([[-1,1,0,0,0],[1,0,0,-1,0],[0,0,1,0,-1]])\n",
    "print \"P:\",P\n",
    "Q = np.array([0.05,0.01,0.05])\n",
    "print \"Q:\",Q\n",
    "Omega = tau*(P.dot(covariance_matrix).dot(P.transpose()))\n",
    "Omega = np.diag(np.diag(Omega,k=0))\n",
    "print \"Omega:\",Omega"
   ]
  },
  {
   "cell_type": "markdown",
   "metadata": {},
   "source": [
    "- 函数调用示例,计算调整期望收益后的efficient_frontier："
   ]
  },
  {
   "cell_type": "code",
   "execution_count": null,
   "metadata": {
    "collapsed": false
   },
   "outputs": [
    {
     "data": {
      "data": {
       "image/png": "iVBORw0KGgoAAAANSUhEUgAAAdUAAAEjCAYAAABkcpvzAAAABHNCSVQICAgIfAhkiAAAAAlwSFlz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\nOh9oasIBTacAAAAASUVORK5CYII=\n",
       "text/plain": "<matplotlib.figure.Figure at 0x65c0fd0>"
      },
      "image/png": "[encoded data removed]",
      "source": "display",
      "text/plain": [
       "<matplotlib.figure.Figure at 0x65c0fd0>"
      ]
     },
     "metadata": {},
     "output_type": "display_data"
    },
    {
     "data": {
      "text/html": [
       "<div style=\"max-width:1500px;overflow:auto;\">\n",
       "<table border=\"1\" class=\"dataframe\">\n",
       "  <thead>\n",
       "    <tr style=\"text-align: right;\">\n",
       "      <th></th>\n",
       "      <th>returns</th>\n",
       "      <th>risks</th>\n",
       "      <th>weights</th>\n",
       "    </tr>\n",
       "  </thead>\n",
       "  <tbody>\n",
       "    <tr>\n",
       "      <th>0</th>\n",
       "      <td>0.038427</td>\n",
       "      <td>0.007719</td>\n",
       "      <td>{u'000300.ZICN': 2.33603637691e-09, u'000905.Z...</td>\n",
       "    </tr>\n",
       "    <tr>\n",
       "      <th>1</th>\n",
       "      <td>0.041670</td>\n",
       "      <td>0.007210</td>\n",
       "      <td>{u'000300.ZICN': 0.000184987938987, u'000905.Z...</td>\n",
       "    </tr>\n",
       "    <tr>\n",
       "      <th>2</th>\n",
       "      <td>0.044913</td>\n",
       "      <td>0.006733</td>\n",
       "      <td>{u'000300.ZICN': 0.000163602631128, u'000905.Z...</td>\n",
       "    </tr>\n",
       "    <tr>\n",
       "      <th>3</th>\n",
       "      <td>0.048156</td>\n",
       "      <td>0.006300</td>\n",
       "      <td>{u'000300.ZICN': 0.00039631472914, u'000905.ZI...</td>\n",
       "    </tr>\n",
       "    <tr>\n",
       "      <th>4</th>\n",
       "      <td>0.051399</td>\n",
       "      <td>0.005908</td>\n",
       "      <td>{u'000300.ZICN': 7.98325463855e-05, u'000905.Z...</td>\n",
       "    </tr>\n",
       "  </tbody>\n",
       "</table>\n",
       "</div>"
      ],
      "text/plain": [
       "    returns     risks                                            weights\n",
       "0  0.038427  0.007719  {u'000300.ZICN': 2.33603637691e-09, u'000905.Z...\n",
       "1  0.041670  0.007210  {u'000300.ZICN': 0.000184987938987, u'000905.Z...\n",
       "2  0.044913  0.006733  {u'000300.ZICN': 0.000163602631128, u'000905.Z...\n",
       "3  0.048156  0.006300  {u'000300.ZICN': 0.00039631472914, u'000905.ZI...\n",
       "4  0.051399  0.005908  {u'000300.ZICN': 7.98325463855e-05, u'000905.Z..."
      ]
     },
     "execution_count": 14,
     "metadata": {},
     "output_type": "execute_result"
    }
   ],
   "source": [
    "efficient_frontier = get_BL_efficient_frontier(return_table,tau,P=P,Q=Q,Omega=Omega,allow_short=False, n_samples=50)\n",
    "draw_efficient_frontier(efficient_frontier)\n",
    "efficient_frontier.head()"
   ]
  },
  {
   "cell_type": "markdown",
   "metadata": {},
   "source": [
    "- 计算调整期望收益后的最小方差组合权重"
   ]
  },
  {
   "cell_type": "code",
   "execution_count": null,
   "metadata": {
    "collapsed": false
   },
   "outputs": [
    {
     "name": "stdout",
     "output_type": "stream",
     "text": [
      "Minimum Variance Portfolio:\n",
      "    Short Allowed: False\n",
      "    Portfolio Return: 0.0658687283917\n",
      "    Portfolio Volatility: 0.0050588418931\n",
      "    Portfolio Weights: \n",
      "\t000300.ZICN: 0.0%\n",
      "\t000905.ZICN: 0.0%\n",
      "\t399006.ZICN: 0.0%\n",
      "\t000013.ZICN: 68.4%\n",
      "\t000012.ZICN: 31.6%\n"
     ]
    },
    {
     "data": {
      "text/plain": [
       "{'000012.ZICN': 0.31560658374348943,\n",
       " '000013.ZICN': 0.6841910861679561,\n",
       " '000300.ZICN': 9.9297573033722776e-05,\n",
       " '000905.ZICN': 4.5874020869208056e-05,\n",
       " '399006.ZICN': 5.7158494651462556e-05}"
      ]
     },
     "execution_count": 11,
     "metadata": {},
     "output_type": "execute_result"
    }
   ],
   "source": [
    "get_BL_minimum_variance_portfolio(return_table,tau=0.05,P=P,Q=Q,Omega=Omega, allow_short=False, show_details=True)"
   ]
  },
  {
   "cell_type": "markdown",
   "metadata": {},
   "source": [
    "- 计算调整期望收益后的最大效用组合权重"
   ]
  },
  {
   "cell_type": "code",
   "execution_count": null,
   "metadata": {
    "collapsed": false
   },
   "outputs": [
    {
     "name": "stdout",
     "output_type": "stream",
     "text": [
      "Maximum Utility Portfolio:\n",
      "    Risk Aversion: 3.0\n",
      "    Short Allowed: False\n",
      "    Portfolio Return: 0.160427218842\n",
      "    Portfolio Volatility: 0.101067603354\n",
      "    Portfolio Weights: \n",
      "\t000300.ZICN: 0.0%\n",
      "\t000905.ZICN: 0.0%\n",
      "\t399006.ZICN: 25.5%\n",
      "\t000013.ZICN: 74.5%\n",
      "\t000012.ZICN: 0.0%\n"
     ]
    },
    {
     "data": {
      "text/plain": [
       "{'000012.ZICN': 2.5108250455698692e-08,\n",
       " '000013.ZICN': 0.74451966742282516,\n",
       " '000300.ZICN': 1.9315441226770764e-07,\n",
       " '000905.ZICN': 1.8268795739024269e-07,\n",
       " '399006.ZICN': 0.25547993162655475}"
      ]
     },
     "execution_count": 12,
     "metadata": {},
     "output_type": "execute_result"
    }
   ],
   "source": [
    "get_BL_maximum_utility_portfolio(return_table,tau=0.05,P=P,Q=Q,Omega=Omega, risk_aversion=3., allow_short=False, show_details=True)"
   ]
  },
  {
   "cell_type": "markdown",
   "metadata": {},
   "source": [
    "- 计算调整期望收益后的最大夏普比率组合权重"
   ]
  },
  {
   "cell_type": "code",
   "execution_count": null,
   "metadata": {
    "collapsed": false
   },
   "outputs": [
    {
     "name": "stdout",
     "output_type": "stream",
     "text": [
      "Maximum Sharpe Portfolio:\n",
      "    Riskfree Rate: 0.0\n",
      "    Short Allowed: True\n",
      "    Portfolio Return: 0.0737395282834\n",
      "    Portfolio Volatility: 0.00531414656153\n",
      "    Portfolio Sharpe: 13.8760810282\n",
      "    Portfolio Weights: \n",
      "\t000300.ZICN: 0.2%\n",
      "\t000905.ZICN: -0.4%\n",
      "\t399006.ZICN: 0.2%\n",
      "\t000013.ZICN: 88.4%\n",
      "\t000012.ZICN: 11.7%\n"
     ]
    },
    {
     "data": {
      "text/plain": [
       "{'000012.ZICN': 0.11651327649417914,\n",
       " '000013.ZICN': 0.8843989671769028,\n",
       " '000300.ZICN': 0.0015401399721855877,\n",
       " '000905.ZICN': -0.004275475553003543,\n",
       " '399006.ZICN': 0.0018230919097360272}"
      ]
     },
     "execution_count": 13,
     "metadata": {},
     "output_type": "execute_result"
    }
   ],
   "source": [
    "get_maximum_sharpe_portfolio(return_table, riskfree_rate=0.,tau=0.05,P=P,Q=Q,Omega=Omega,allow_short=True, show_details=True)"
   ]
  },
  {
   "cell_type": "code",
   "execution_count": null,
   "metadata": {
    "collapsed": false
   },
   "outputs": [],
   "source": []
  }
 ],
 "metadata": {
  "kernelspec": {
   "display_name": "Python 2",
   "language": "python",
   "name": "python2"
  },
  "language_info": {
   "codemirror_mode": {
    "name": "ipython",
    "version": 2
   },
   "file_extension": ".py",
   "mimetype": "text/x-python",
   "name": "python",
   "nbconvert_exporter": "python",
   "pygments_lexer": "ipython2",
   "version": "2.7.6"
  }
 },
 "nbformat": 4,
 "nbformat_minor": 0
}
