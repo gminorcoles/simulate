{
 "cells": [
  {
   "cell_type": "markdown",
   "metadata": {
    "collapsed": true
   },
   "source": [
    "# Risk parity on two assets, 南华商品，中债净价(3-5年)\n",
    "- 风险平价策略: 对组合中不同资产分配相同的风险权重的一种投资策略\n",
    "\n",
    "> 风险平价（Risk Parity）策略通过平衡分配不同资产类别在组合风险中的贡献度，实现了投资组合的风险结构优化。通过风险平价配置，投资组合不会暴露在单一资产类别的风险敞口中，因而可以在风险平衡的基础上实现理想的投资收益。\n",
    "\n",
    "- 风险平价策略应用于大类资产配置\n",
    "\n",
    "本报告将同时对债券和大宗商品两个资产组合，运用以下策略进行对比\n",
    ">- 等权重策略\n",
    ">- 最小方差策略\n",
    ">- 简单风险平价策略及\n",
    ">- 优化风险平价策略。\n",
    "\n",
    "等权重组合的年化收益率为 1.77%，年化波动率为 0.07，夏普比 率为0.25，最大回撤为29.09%；最小方差组合的年化收益率为-0.35%，年化波动率为0.01， 夏普比率为 -0.26，最大回撤为 8.32%；简单风险平价组合的年化收益率为 -0.34%，年化波动率为 0.02，夏普比率为 -0.20，最大回撤为 8.35%；最优风险平价组合的年化收益率为 1.04%， 年化波动率为 0.05，夏普比率为 0.19，最大回撤为 19.31%。\n",
    "\n",
    "策略的具体实施:\n",
    "为对比资产配置效果，本次对标的资产组合处理如下： \n",
    ">- 对各策略进行滚动测试，每3个月进行仓位调整\n",
    ">- 自 2008 年 8 月起对标的组合进行测试，选取半年作为样本期，滚动计算样本期内组合的协方差矩阵以作为下一期协方差矩阵的估计\n",
    ">- 将所得的协方差矩阵作为模型参数，求解未来下一月的持仓权重；"
   ]
  },
  {
   "cell_type": "markdown",
   "metadata": {},
   "source": [
    "### 1. import modules"
   ]
  },
  {
   "cell_type": "code",
   "execution_count": 2,
   "metadata": {},
   "outputs": [
    {
     "name": "stderr",
     "output_type": "stream",
     "text": [
      "/home/weiwu/.pyenv/versions/anaconda3-4.4.0/lib/python3.6/site-packages/statsmodels/compat/pandas.py:56: FutureWarning: The pandas.core.datetools module is deprecated and will be removed in a future version. Please use the pandas.tseries module instead.\n",
      "  from pandas.core import datetools\n"
     ]
    }
   ],
   "source": [
    "import pandas as pd\n",
    "import numpy as np\n",
    "import os\n",
    "np.random.seed(1000)\n",
    "import scipy.stats as scs\n",
    "import statsmodels.api as sm\n",
    "import matplotlib as mpl\n",
    "import matplotlib.pyplot as plt\n",
    "%matplotlib inline\n",
    "from IPython.display import Image, display\n",
    "import time\n",
    "import scipy.stats as stats\n",
    "from scipy.optimize import minimize\n",
    "import scipy.optimize as sco\n",
    "import scipy.spatial.distance as dist\n",
    "import scipy.cluster.hierarchy as sch\n",
    "from datetime import date\n",
    "from sklearn.externals import joblib\n",
    "from sklearn.covariance import shrunk_covariance, ledoit_wolf, OAS, MinCovDet\n",
    "from copy import copy\n",
    "from tqdm import tqdm"
   ]
  },
  {
   "cell_type": "markdown",
   "metadata": {},
   "source": [
    "### 2. get data"
   ]
  },
  {
   "cell_type": "code",
   "execution_count": 3,
   "metadata": {},
   "outputs": [
    {
     "data": {
      "text/html": [
       "<div>\n",
       "<style scoped>\n",
       "    .dataframe tbody tr th:only-of-type {\n",
       "        vertical-align: middle;\n",
       "    }\n",
       "\n",
       "    .dataframe tbody tr th {\n",
       "        vertical-align: top;\n",
       "    }\n",
       "\n",
       "    .dataframe thead th {\n",
       "        text-align: right;\n",
       "    }\n",
       "</style>\n",
       "<table border=\"1\" class=\"dataframe\">\n",
       "  <thead>\n",
       "    <tr style=\"text-align: right;\">\n",
       "      <th></th>\n",
       "      <th>Bond</th>\n",
       "      <th>Commodity</th>\n",
       "      <th>Equity</th>\n",
       "    </tr>\n",
       "    <tr>\n",
       "      <th>Date</th>\n",
       "      <th></th>\n",
       "      <th></th>\n",
       "      <th></th>\n",
       "    </tr>\n",
       "  </thead>\n",
       "  <tbody>\n",
       "    <tr>\n",
       "      <th>2008-08-21</th>\n",
       "      <td>112.6504</td>\n",
       "      <td>1329.2136</td>\n",
       "      <td>2443.979</td>\n",
       "    </tr>\n",
       "    <tr>\n",
       "      <th>2008-08-22</th>\n",
       "      <td>112.6684</td>\n",
       "      <td>1339.8214</td>\n",
       "      <td>2404.928</td>\n",
       "    </tr>\n",
       "    <tr>\n",
       "      <th>2008-08-25</th>\n",
       "      <td>112.7239</td>\n",
       "      <td>1338.8501</td>\n",
       "      <td>2400.548</td>\n",
       "    </tr>\n",
       "    <tr>\n",
       "      <th>2008-08-26</th>\n",
       "      <td>112.7656</td>\n",
       "      <td>1320.3190</td>\n",
       "      <td>2331.532</td>\n",
       "    </tr>\n",
       "    <tr>\n",
       "      <th>2008-08-27</th>\n",
       "      <td>112.8205</td>\n",
       "      <td>1338.8923</td>\n",
       "      <td>2325.292</td>\n",
       "    </tr>\n",
       "  </tbody>\n",
       "</table>\n",
       "</div>"
      ],
      "text/plain": [
       "                Bond  Commodity    Equity\n",
       "Date                                     \n",
       "2008-08-21  112.6504  1329.2136  2443.979\n",
       "2008-08-22  112.6684  1339.8214  2404.928\n",
       "2008-08-25  112.7239  1338.8501  2400.548\n",
       "2008-08-26  112.7656  1320.3190  2331.532\n",
       "2008-08-27  112.8205  1338.8923  2325.292"
      ]
     },
     "execution_count": 3,
     "metadata": {},
     "output_type": "execute_result"
    }
   ],
   "source": [
    "data = pd.read_csv('./assets.csv', index_col='Date', parse_dates=True).rename(\n",
    "    columns={\"CBA00332.CS\":\"Bond\",\"NH0100.NHF\":\"Commodity\",\"000300.SH\":\"Equity\"})\n",
    "data.head()"
   ]
  },
  {
   "cell_type": "markdown",
   "metadata": {},
   "source": [
    "### ticker selection and lookback input"
   ]
  },
  {
   "cell_type": "code",
   "execution_count": 4,
   "metadata": {},
   "outputs": [
    {
     "data": {
      "text/html": [
       "<div>\n",
       "<style scoped>\n",
       "    .dataframe tbody tr th:only-of-type {\n",
       "        vertical-align: middle;\n",
       "    }\n",
       "\n",
       "    .dataframe tbody tr th {\n",
       "        vertical-align: top;\n",
       "    }\n",
       "\n",
       "    .dataframe thead th {\n",
       "        text-align: right;\n",
       "    }\n",
       "</style>\n",
       "<table border=\"1\" class=\"dataframe\">\n",
       "  <thead>\n",
       "    <tr style=\"text-align: right;\">\n",
       "      <th></th>\n",
       "      <th>Bond</th>\n",
       "      <th>Commodity</th>\n",
       "    </tr>\n",
       "    <tr>\n",
       "      <th>Date</th>\n",
       "      <th></th>\n",
       "      <th></th>\n",
       "    </tr>\n",
       "  </thead>\n",
       "  <tbody>\n",
       "    <tr>\n",
       "      <th>2008-08-22</th>\n",
       "      <td>0.000160</td>\n",
       "      <td>0.007981</td>\n",
       "    </tr>\n",
       "    <tr>\n",
       "      <th>2008-08-25</th>\n",
       "      <td>0.000493</td>\n",
       "      <td>-0.000725</td>\n",
       "    </tr>\n",
       "    <tr>\n",
       "      <th>2008-08-26</th>\n",
       "      <td>0.000370</td>\n",
       "      <td>-0.013841</td>\n",
       "    </tr>\n",
       "    <tr>\n",
       "      <th>2008-08-27</th>\n",
       "      <td>0.000487</td>\n",
       "      <td>0.014067</td>\n",
       "    </tr>\n",
       "    <tr>\n",
       "      <th>2008-08-28</th>\n",
       "      <td>0.000909</td>\n",
       "      <td>-0.003474</td>\n",
       "    </tr>\n",
       "  </tbody>\n",
       "</table>\n",
       "</div>"
      ],
      "text/plain": [
       "                Bond  Commodity\n",
       "Date                           \n",
       "2008-08-22  0.000160   0.007981\n",
       "2008-08-25  0.000493  -0.000725\n",
       "2008-08-26  0.000370  -0.013841\n",
       "2008-08-27  0.000487   0.014067\n",
       "2008-08-28  0.000909  -0.003474"
      ]
     },
     "execution_count": 4,
     "metadata": {},
     "output_type": "execute_result"
    }
   ],
   "source": [
    "tickers = ['Bond', 'Commodity'] \n",
    "\n",
    "df_returns = data[tickers].pct_change().dropna()\n",
    "df_returns.head()"
   ]
  },
  {
   "cell_type": "markdown",
   "metadata": {},
   "source": [
    "### visualize normalized index with start value of 100"
   ]
  },
  {
   "cell_type": "code",
   "execution_count": 5,
   "metadata": {
    "scrolled": false
   },
   "outputs": [
    {
     "name": "stderr",
     "output_type": "stream",
     "text": [
      "/home/weiwu/.pyenv/versions/anaconda3-4.4.0/lib/python3.6/site-packages/ipykernel_launcher.py:1: DeprecationWarning: \n",
      ".ix is deprecated. Please use\n",
      ".loc for label based indexing or\n",
      ".iloc for positional indexing\n",
      "\n",
      "See the documentation here:\n",
      "http://pandas.pydata.org/pandas-docs/stable/indexing.html#ix-indexer-is-deprecated\n",
      "  \"\"\"Entry point for launching an IPython kernel.\n"
     ]
    },
    {
     "data": {
      "text/plain": [
       "<matplotlib.axes._subplots.AxesSubplot at 0x7f52db14f2e8>"
      ]
     },
     "execution_count": 5,
     "metadata": {},
     "output_type": "execute_result"
    },
    {
     "data": {
      "image/png": "[encoded data removed]",
      "text/plain": [
       "<matplotlib.figure.Figure at 0x7f52ddb1add8>"
      ]
     },
     "metadata": {},
     "output_type": "display_data"
    }
   ],
   "source": [
    "(data / data.ix[0] * 100).plot(figsize=(8, 6), grid=True)\n",
    "# tag: real_returns_1\n",
    "# title: Evolution of index levels over time"
   ]
  },
  {
   "cell_type": "markdown",
   "metadata": {},
   "source": [
    "### 3. transform data, print statistics of return, normality test"
   ]
  },
  {
   "cell_type": "code",
   "execution_count": 6,
   "metadata": {
    "collapsed": true
   },
   "outputs": [],
   "source": [
    "def print_statistics(array):\n",
    "    ''' Prints selected statistics.\n",
    "    \n",
    "    Parameters\n",
    "    -------------\n",
    "    array: ndarray\n",
    "        object to generate statistics on\n",
    "    '''\n",
    "    sta = scs.describe(array)\n",
    "    print (\"%14s %15s\" % ('statistic', 'value'))\n",
    "    print (30 * \"-\")\n",
    "    print (\"%14s %15.5f\" % ('size', sta[0]))\n",
    "    print (\"%14s %15.5f\" % ('min', sta[1][0]))\n",
    "    print (\"%14s %15.5f\" % ('max', sta[1][1]))\n",
    "    print (\"%14s %15.5f\" % ('mean', sta[2]))\n",
    "    print (\"%14s %15.5f\" % ('std', np.sqrt(sta[3])))\n",
    "    print (\"%14s %15.5f\" % ('skew', sta[4]))\n",
    "    print (\"%14s %15.5f\" % ('kurtosis', sta[5]))"
   ]
  },
  {
   "cell_type": "code",
   "execution_count": 7,
   "metadata": {
    "scrolled": true
   },
   "outputs": [
    {
     "data": {
      "text/plain": [
       "array([[<matplotlib.axes._subplots.AxesSubplot object at 0x7f52db0b6e10>,\n",
       "        <matplotlib.axes._subplots.AxesSubplot object at 0x7f52dafbe518>]],\n",
       "      dtype=object)"
      ]
     },
     "execution_count": 7,
     "metadata": {},
     "output_type": "execute_result"
    },
    {
     "data": {
      "image/png": "[encoded data removed]",
      "text/plain": [
       "<matplotlib.figure.Figure at 0x7f52db0c2358>"
      ]
     },
     "metadata": {},
     "output_type": "display_data"
    }
   ],
   "source": [
    "df_returns[tickers].hist(bins=20, figsize=(9, 6))\n",
    "# tag: real_returns_2\n",
    "# title: Histogram of respective log-returns\n",
    "# size: 90"
   ]
  },
  {
   "cell_type": "code",
   "execution_count": 8,
   "metadata": {},
   "outputs": [
    {
     "name": "stdout",
     "output_type": "stream",
     "text": [
      "\n",
      "Results for symbol Bond\n",
      "------------------------------\n",
      "     statistic           value\n",
      "------------------------------\n",
      "          size      2432.00000\n",
      "           min        -0.00825\n",
      "           max         0.00733\n",
      "          mean         0.00001\n",
      "           std         0.00096\n",
      "          skew         0.39803\n",
      "      kurtosis        12.73785\n",
      "\n",
      "Results for symbol Commodity\n",
      "------------------------------\n",
      "     statistic           value\n",
      "------------------------------\n",
      "          size      2432.00000\n",
      "           min        -0.04408\n",
      "           max         0.03754\n",
      "          mean         0.00008\n",
      "           std         0.00982\n",
      "          skew        -0.19705\n",
      "      kurtosis         1.87093\n"
     ]
    }
   ],
   "source": [
    "for sym in tickers:\n",
    "    print(\"\\nResults for symbol %s\" % sym)\n",
    "    print(30 * \"-\")\n",
    "    print_statistics(df_returns[sym].values)"
   ]
  },
  {
   "cell_type": "markdown",
   "metadata": {},
   "source": [
    "#### 注意到两类标的百分比skewness均不接近0, 非正态分布。"
   ]
  },
  {
   "cell_type": "markdown",
   "metadata": {},
   "source": [
    "#### 资产相关性"
   ]
  },
  {
   "cell_type": "code",
   "execution_count": 9,
   "metadata": {},
   "outputs": [
    {
     "data": {
      "text/html": [
       "<div>\n",
       "<style scoped>\n",
       "    .dataframe tbody tr th:only-of-type {\n",
       "        vertical-align: middle;\n",
       "    }\n",
       "\n",
       "    .dataframe tbody tr th {\n",
       "        vertical-align: top;\n",
       "    }\n",
       "\n",
       "    .dataframe thead th {\n",
       "        text-align: right;\n",
       "    }\n",
       "</style>\n",
       "<table border=\"1\" class=\"dataframe\">\n",
       "  <thead>\n",
       "    <tr style=\"text-align: right;\">\n",
       "      <th></th>\n",
       "      <th>Bond</th>\n",
       "      <th>Commodity</th>\n",
       "    </tr>\n",
       "  </thead>\n",
       "  <tbody>\n",
       "    <tr>\n",
       "      <th>Bond</th>\n",
       "      <td>1.000000</td>\n",
       "      <td>-0.086353</td>\n",
       "    </tr>\n",
       "    <tr>\n",
       "      <th>Commodity</th>\n",
       "      <td>-0.086353</td>\n",
       "      <td>1.000000</td>\n",
       "    </tr>\n",
       "  </tbody>\n",
       "</table>\n",
       "</div>"
      ],
      "text/plain": [
       "               Bond  Commodity\n",
       "Bond       1.000000  -0.086353\n",
       "Commodity -0.086353   1.000000"
      ]
     },
     "execution_count": 9,
     "metadata": {},
     "output_type": "execute_result"
    }
   ],
   "source": [
    "df_returns[tickers].corr()"
   ]
  },
  {
   "cell_type": "markdown",
   "metadata": {},
   "source": [
    "相关性上，在08年至18年过去10年间，债券和商品相关性不强。"
   ]
  },
  {
   "cell_type": "markdown",
   "metadata": {},
   "source": [
    "### 4. portfolio weight calculation\n",
    "### 4.1 function definition"
   ]
  },
  {
   "cell_type": "code",
   "execution_count": 10,
   "metadata": {
    "collapsed": true
   },
   "outputs": [],
   "source": [
    "def to_percent(x):\n",
    "    try: f_string = '{:.2%}'.format(x)\n",
    "    except: f_string = x\n",
    "    return f_string\n",
    "\n",
    "def to_decimal(x):\n",
    "    try:\n",
    "        if x >= 100:\n",
    "            f_string = '{0:,.0f}'.format(x)\n",
    "        elif x >= 10:\n",
    "            f_string = '{0:,.1f}'.format(x)\n",
    "        else:\n",
    "            f_string = '{0:,.2f}'.format(x)\n",
    "            \n",
    "    except: f_string = x\n",
    "    return f_string\n",
    "\n",
    "def annual_volatility(df_single_returns):\n",
    "    \"\"\"\n",
    "    Determines the annual volatility of a strategy.\n",
    "\n",
    "    Parameters\n",
    "    ----------\n",
    "    df_single_returns : pd.Series or np.ndarray\n",
    "        Periodic returns of the strategy, noncumulative.\n",
    "\n",
    "    Returns\n",
    "    -------\n",
    "    float, np.ndarray\n",
    "        Annual volatility.\n",
    "    \"\"\"\n",
    "\n",
    "    if len(df_single_returns) < 2:\n",
    "        return np.nan\n",
    "\n",
    "    std = df_single_returns.std(ddof=1)\n",
    "\n",
    "    volatility = std * (252 ** (1.0 / 2))\n",
    "\n",
    "    return volatility.astype(np.float)\n",
    "\n",
    "def max_drawdown(df_returns):\n",
    "    max_dd = (np.cumprod(1+df_returns)/np.maximum.accumulate(np.cumprod(1+df_returns))-1).min()\n",
    "    return max_dd\n",
    "def cal_max_dd(df_single_return):\n",
    "    \"\"\"\n",
    "    Determines the maximum drawdown of a strategy.\n",
    "\n",
    "    Parameters\n",
    "    ----------\n",
    "    df_single_return :\n",
    "        Daily returns of the strategy, noncumulative.\n",
    "\n",
    "    Returns\n",
    "    ----------\n",
    "    float\n",
    "        Maximum drawdown.\n",
    "    \"\"\"\n",
    "    if len(df_single_return) < 1:\n",
    "        return np.nan\n",
    "\n",
    "    df_perform_equity_curve = (1. + df_single_return).cumprod()\n",
    "    df_perform_cum_max = df_perform_equity_curve.cummax()\n",
    "    # drawdown series\n",
    "    df_perform_drawdown = df_perform_equity_curve / df_perform_cum_max - 1\n",
    "    max_dd = df_perform_drawdown.min()\n",
    "    return max_dd\n",
    "\n",
    "def annual_return(df_single_return, period):\n",
    "    \"\"\"Determines the mean annual growth rate of returns.\n",
    "\n",
    "    Parameters\n",
    "    ----------\n",
    "    df_single_return : pd.Series or np.ndarray\n",
    "        Periodic returns of the strategy, noncumulative.\n",
    "    period : str, optional\n",
    "        Defines the periodicity of the 'returns' data for purposes of\n",
    "        annualizing. Value ignored if `annualization` parameter is specified.\n",
    "        Defaults are:\n",
    "            'monthly':12\n",
    "            'weekly': 52\n",
    "            'daily': 252\n",
    "\n",
    "    Returns\n",
    "    -------\n",
    "    float\n",
    "    \"\"\"\n",
    "\n",
    "    if len(df_single_return) < 1:\n",
    "        return np.nan\n",
    "\n",
    "    num_years = float(len(df_single_return)) / period\n",
    "\n",
    "    # Pass array to ensure index -1 looks up successfully.\n",
    "    df_cum = (df_single_return + 1).cumprod(axis=0) - 1\n",
    "    f_annual_return = (1. + df_cum.iloc[-1,:]) ** (1. / num_years) - 1\n",
    "\n",
    "    return f_annual_return.apply(to_percent)\n",
    "\n",
    "def to_summary(df_returns):\n",
    "    # Daily return calcs\n",
    "    df_summary = pd.DataFrame(columns=df_returns.columns)\n",
    "    df_summary.loc['Summary Stats:'] = ''\n",
    "    MOIC = np.prod(1+df_returns)\n",
    "    CAGR = MOIC**(periodicity/len(df_returns))-1\n",
    "    df_summary.loc['Annualized Return'] = annual_return(df_returns, 252)\n",
    "    df_summary.loc['Sharpe'] = CAGR/(np.std(df_returns)*np.sqrt(periodicity))\n",
    "    df_summary.loc['Volatility'] = annual_volatility(df_returns)    \n",
    "    df_summary.loc['Sortino'] = CAGR/(np.std(np.clip(df_returns, a_max=0, a_min=None))*np.sqrt(periodicity))\n",
    "    df_summary.loc['Max Drawdown'] = cal_max_dd(df_returns).apply(to_percent)  \n",
    "    df_summary = df_summary.applymap(to_decimal)\n",
    "    \n",
    "    # Monthly return calcs\n",
    "    df_summary.loc['Monthly Perf. Metrics:'] = ''\n",
    "    df_months = pd.DataFrame(columns=df_returns.columns)\n",
    "    df_returnsM = (1+df_returns).resample('M').prod()-1\n",
    "    MOIC_M = np.prod(1+df_returnsM)\n",
    "    CAGR_M = MOIC_M**(12/len(df_returnsM))-1\n",
    "    df_months.loc['Sharpe'] = CAGR_M/(np.std(df_returnsM)*np.sqrt(12))\n",
    "    df_months.loc['Sortino'] = CAGR_M/(np.std(np.clip(df_returnsM, a_max=0, a_min=None))*np.sqrt(12))\n",
    "    \n",
    "    if len(df_returnsM) >= 36: df_months.loc['Calmar'] = -(np.prod(1+df_returnsM.iloc[-12*3:])**(1/3)-1)\\\n",
    "                                                         / max_drawdown(df_returnsM.iloc[-12*3:])\n",
    "    \n",
    "    df_months = df_months.applymap(to_decimal)\n",
    "    df_summary = df_summary.append(df_months)\n",
    "    \n",
    "    # Annuals\n",
    "    df_summary.loc['Annual Returns:'] = ''\n",
    "    df_annuals = df_returns.groupby(df_returns.index.year).apply(lambda x: np.prod(1+x)-1).applymap(to_percent)\n",
    "    df_summary = df_summary.append(df_annuals)\n",
    "\n",
    "    # Drawdowns\n",
    "    df_summary.loc['Annual Max DD:'] = ''    \n",
    "    df_maxdd = df_returns.groupby(df_returns.index.year).apply(cal_max_dd).applymap(to_percent)\n",
    "    df_summary = df_summary.append(df_maxdd)\n",
    "    return df_summary"
   ]
  },
  {
   "cell_type": "markdown",
   "metadata": {},
   "source": [
    "### 4.2 Simple Risk Parity\n",
    "简单风险均衡假设资产之间没有相关性"
   ]
  },
  {
   "cell_type": "code",
   "execution_count": 11,
   "metadata": {
    "collapsed": true
   },
   "outputs": [],
   "source": [
    "lookback = 21*6\n",
    "corr_lookback = 21*24\n",
    "periodicity = 252\n",
    "\n",
    "n_tickers = len(tickers)\n",
    "N = len(data)\n",
    "resample_freq = '3M'"
   ]
  },
  {
   "cell_type": "code",
   "execution_count": 12,
   "metadata": {
    "collapsed": true
   },
   "outputs": [],
   "source": [
    "#-------------------------------------\n",
    "# Weighted arrays\n",
    "#-------------------------------------\n",
    "syd_array = np.arange(1, lookback+1)/np.arange(1, lookback+1).sum()\n",
    "syd_array = syd_array.reshape(-1, 1)\n",
    "log_array = np.log(np.arange(lookback)+1)/np.log(np.arange(lookback)+1).sum()\n",
    "log_array = log_array.reshape(-1, 1)\n",
    "sqrt_array = np.sqrt(np.arange(lookback)+1)/np.sqrt(np.arange(lookback)+1).sum()\n",
    "sqrt_array = sqrt_array.reshape(-1, 1)"
   ]
  },
  {
   "cell_type": "code",
   "execution_count": 14,
   "metadata": {
    "scrolled": true
   },
   "outputs": [
    {
     "name": "stdout",
     "output_type": "stream",
     "text": [
      "0.05873 seconds\n"
     ]
    },
    {
     "data": {
      "text/html": [
       "<div>\n",
       "<style scoped>\n",
       "    .dataframe tbody tr th:only-of-type {\n",
       "        vertical-align: middle;\n",
       "    }\n",
       "\n",
       "    .dataframe tbody tr th {\n",
       "        vertical-align: top;\n",
       "    }\n",
       "\n",
       "    .dataframe thead th {\n",
       "        text-align: right;\n",
       "    }\n",
       "</style>\n",
       "<table border=\"1\" class=\"dataframe\">\n",
       "  <thead>\n",
       "    <tr style=\"text-align: right;\">\n",
       "      <th></th>\n",
       "      <th>Bond</th>\n",
       "      <th>Commodity</th>\n",
       "    </tr>\n",
       "    <tr>\n",
       "      <th>Date</th>\n",
       "      <th></th>\n",
       "      <th></th>\n",
       "    </tr>\n",
       "  </thead>\n",
       "  <tbody>\n",
       "    <tr>\n",
       "      <th>2018-08-21</th>\n",
       "      <td>0.87518</td>\n",
       "      <td>0.12482</td>\n",
       "    </tr>\n",
       "  </tbody>\n",
       "</table>\n",
       "</div>"
      ],
      "text/plain": [
       "               Bond  Commodity\n",
       "Date                          \n",
       "2018-08-21  0.87518    0.12482"
      ]
     },
     "execution_count": 14,
     "metadata": {},
     "output_type": "execute_result"
    }
   ],
   "source": [
    "# Simple risk parity weight calc\n",
    "t1 = time.time()\n",
    "df_returns = data[tickers].pct_change()\n",
    "short_asset = ''\n",
    "if short_asset in df_returns.columns:\n",
    "    df_returns[short_asset] *= -1               \n",
    "\n",
    "df_RV = np.sqrt(periodicity/lookback*(np.log(1+df_returns)**2).rolling(lookback).sum())*100\n",
    "arr_IV = np.array(1/df_RV)\n",
    "IV_wt_arr = arr_IV/arr_IV.sum(axis=1).reshape(-1, 1)\n",
    "df_IV_weights = pd.DataFrame(index=df_RV.index, columns=df_RV.columns, data=IV_wt_arr)\n",
    "\n",
    "if short_asset in df_returns.columns:\n",
    "    df_returns[short_asset] *= -1               \n",
    "    df_IV_weights[short_asset] *= -1\n",
    "\n",
    "IV_returns = (df_IV_weights.resample(resample_freq).first().asfreq('D', method='ffill').shift(1)*df_returns[tickers]).sum(axis=1)\n",
    "print(\"{0:,.5f}\".format(time.time()-t1), 'seconds')\n",
    "df_returns['RP'] = IV_returns\n",
    "df_IV_weights.tail(1)"
   ]
  },
  {
   "cell_type": "markdown",
   "metadata": {},
   "source": [
    "### 4.3 Equal Risk Contribution"
   ]
  },
  {
   "cell_type": "code",
   "execution_count": 18,
   "metadata": {
    "scrolled": true
   },
   "outputs": [
    {
     "name": "stderr",
     "output_type": "stream",
     "text": [
      "100%|██████████| 1929/1929 [00:04<00:00, 431.63it/s]\n"
     ]
    },
    {
     "data": {
      "text/html": [
       "<div>\n",
       "<style scoped>\n",
       "    .dataframe tbody tr th:only-of-type {\n",
       "        vertical-align: middle;\n",
       "    }\n",
       "\n",
       "    .dataframe tbody tr th {\n",
       "        vertical-align: top;\n",
       "    }\n",
       "\n",
       "    .dataframe thead th {\n",
       "        text-align: right;\n",
       "    }\n",
       "</style>\n",
       "<table border=\"1\" class=\"dataframe\">\n",
       "  <thead>\n",
       "    <tr style=\"text-align: right;\">\n",
       "      <th></th>\n",
       "      <th>Bond</th>\n",
       "      <th>Commodity</th>\n",
       "    </tr>\n",
       "    <tr>\n",
       "      <th>Date</th>\n",
       "      <th></th>\n",
       "      <th></th>\n",
       "    </tr>\n",
       "  </thead>\n",
       "  <tbody>\n",
       "    <tr>\n",
       "      <th>2018-08-21</th>\n",
       "      <td>0.824259</td>\n",
       "      <td>0.175741</td>\n",
       "    </tr>\n",
       "  </tbody>\n",
       "</table>\n",
       "</div>"
      ],
      "text/plain": [
       "                Bond  Commodity\n",
       "Date                           \n",
       "2018-08-21  0.824259   0.175741"
      ]
     },
     "execution_count": 18,
     "metadata": {},
     "output_type": "execute_result"
    }
   ],
   "source": [
    "# Calculate ERC risk parity weights\n",
    "def get_F(omega, y):\n",
    "    x = y[:-1]\n",
    "    newt_lambda = y[-1]\n",
    "    F = np.zeros([len(x)+1, 1])\n",
    "    F[:-1] = omega @ x - (newt_lambda*(1/x))\n",
    "    F[-1] = x.sum()-1\n",
    "    return F\n",
    "\n",
    "def get_J(omega, y):\n",
    "    x = y[:-1]\n",
    "    newt_lambda = y[-1]\n",
    "    J = np.zeros([len(x)+1, len(x)+1])\n",
    "    J[:-1, :-1] = omega + newt_lambda*np.diagflat(1/np.square(x))\n",
    "    J[:-1, -1] = -1/x.ravel()\n",
    "    J[-1, :-1] = 1\n",
    "    return J\n",
    "\n",
    "def getERCWeights(omega, y, epsilon):\n",
    "    y_last = y\n",
    "    y_next = y_last - (np.linalg.inv(get_J(omega, y_last)) @ get_F(omega, y_last))\n",
    "    condition = np.linalg.norm(y_next - y_last, ord=2)\n",
    "    \n",
    "    while condition > epsilon:\n",
    "        y_last = y_next\n",
    "        y_next = y_last - (np.linalg.inv(get_J(omega, y_last)) @ get_F(omega, y_last))\n",
    "        condition = np.linalg.norm(y_next - y_last, ord=2)\n",
    "    \n",
    "    return y_next[:-1]\n",
    "\n",
    "newt_lambda0 = 0.5\n",
    "eps = 10**-8\n",
    "x0 = np.ones([n_tickers, 1])/n_tickers\n",
    "y0 = np.append(x0, newt_lambda0).reshape(n_tickers+1, 1)\n",
    "\n",
    "returns_array = np.array(df_returns[tickers])\n",
    "\n",
    "ERC_wts_arr = np.zeros(returns_array.shape) + 1/n_tickers\n",
    "\n",
    "for i in tqdm(range(corr_lookback, N)): \n",
    "    returns_array_corr = returns_array[i-corr_lookback+1:i+1, :]\n",
    "    returns_array_cov  = returns_array[i-lookback+1:i+1, :]\n",
    "    \n",
    "    corr = np.corrcoef(returns_array_corr.T)\n",
    "    cov_diag = np.diag(np.sqrt(np.var(returns_array_cov, axis=0)))\n",
    "    omega = cov_diag @ corr @ cov_diag\n",
    "    omega = shrunk_covariance(omega, shrinkage=0.05)*10**4\n",
    "    ERC_wts_arr[i] = getERCWeights(omega, y0, eps).T\n",
    "    \n",
    "df_ERC_weights = pd.DataFrame(index=df_returns.index, columns=df_returns.columns[:len(tickers)], data=ERC_wts_arr)"
   ]
  },
  {
   "cell_type": "code",
   "execution_count": 114,
   "metadata": {},
   "outputs": [
    {
     "data": {
      "text/html": [
       "<div>\n",
       "<style scoped>\n",
       "    .dataframe tbody tr th:only-of-type {\n",
       "        vertical-align: middle;\n",
       "    }\n",
       "\n",
       "    .dataframe tbody tr th {\n",
       "        vertical-align: top;\n",
       "    }\n",
       "\n",
       "    .dataframe thead th {\n",
       "        text-align: right;\n",
       "    }\n",
       "</style>\n",
       "<table border=\"1\" class=\"dataframe\">\n",
       "  <thead>\n",
       "    <tr style=\"text-align: right;\">\n",
       "      <th></th>\n",
       "      <th>Bond</th>\n",
       "      <th>Commodity</th>\n",
       "    </tr>\n",
       "    <tr>\n",
       "      <th>Date</th>\n",
       "      <th></th>\n",
       "      <th></th>\n",
       "    </tr>\n",
       "  </thead>\n",
       "  <tbody>\n",
       "    <tr>\n",
       "      <th>2018-08-21</th>\n",
       "      <td>0.824259</td>\n",
       "      <td>0.175741</td>\n",
       "    </tr>\n",
       "  </tbody>\n",
       "</table>\n",
       "</div>"
      ],
      "text/plain": [
       "                Bond  Commodity\n",
       "Date                           \n",
       "2018-08-21  0.824259   0.175741"
      ]
     },
     "execution_count": 114,
     "metadata": {},
     "output_type": "execute_result"
    }
   ],
   "source": [
    "ERC_returns = (df_ERC_weights.resample(resample_freq).first().asfreq('D', method='ffill').shift(1)*df_returns[tickers]).sum(axis=1)\n",
    "df_ERC_weights.tail(1)"
   ]
  },
  {
   "cell_type": "code",
   "execution_count": 115,
   "metadata": {
    "collapsed": true
   },
   "outputs": [],
   "source": [
    "df_returns['ERC'] = ERC_returns"
   ]
  },
  {
   "cell_type": "markdown",
   "metadata": {},
   "source": [
    "### 4.4 Equally weighted portfolio"
   ]
  },
  {
   "cell_type": "code",
   "execution_count": 104,
   "metadata": {
    "collapsed": true
   },
   "outputs": [],
   "source": [
    "df_ew_weights = copy(data[tickers].iloc[lookback:])\n",
    "df_ew_weights[tickers] = 1/n_tickers\n",
    "ew_returns = (df_ew_weights.resample(resample_freq).first().asfreq('D', method='ffill').shift(1)*df_returns[tickers]).sum(axis=1)"
   ]
  },
  {
   "cell_type": "code",
   "execution_count": 105,
   "metadata": {
    "collapsed": true
   },
   "outputs": [],
   "source": [
    "# return on equally weighted\n",
    "df_returns['EW'] = ew_returns"
   ]
  },
  {
   "cell_type": "markdown",
   "metadata": {},
   "source": [
    "### 4.5 Minimum variance portfolio"
   ]
  },
  {
   "cell_type": "code",
   "execution_count": 22,
   "metadata": {
    "collapsed": true
   },
   "outputs": [],
   "source": [
    "def statistics(weights, iteration):\n",
    "    ''' Return portfolio statistics.\n",
    "    \n",
    "    Parameters\n",
    "    -------------\n",
    "    weights : array-like\n",
    "        weights for different securities in portfolio\n",
    "    \n",
    "    Returns\n",
    "    ------------\n",
    "    pret : float\n",
    "        expected portfolio return\n",
    "    pvol : float\n",
    "        expected portfolio volatility\n",
    "    pret / pvol : float\n",
    "        Sharpe ratio for rf=0\n",
    "    '''\n",
    "    weights = np.array(weights)\n",
    "    pret = np.sum(df_returns[tickers].iloc[df_returns.index.get_loc(iteration)-lookback:df_returns.index.get_loc(iteration),:].mean() * weights) * 252\n",
    "    #pvol = annual_volatility(df_returns[tickers].loc[iteration]))\n",
    "    pvol = np.sqrt(np.dot(weights.T, np.dot(df_returns[tickers].iloc[df_returns.index.get_loc(iteration)-lookback:df_returns.index.get_loc(iteration),:].cov() * 252, weights)))\n",
    "    return np.array([pret, pvol, pret / pvol])"
   ]
  },
  {
   "cell_type": "code",
   "execution_count": 23,
   "metadata": {
    "collapsed": true
   },
   "outputs": [],
   "source": [
    "cons = ({'type': 'eq', 'fun': lambda x:  np.sum(x) - 1})"
   ]
  },
  {
   "cell_type": "code",
   "execution_count": 24,
   "metadata": {
    "collapsed": true
   },
   "outputs": [],
   "source": [
    "bnds = tuple((0, 1) for x in range(n_tickers))"
   ]
  },
  {
   "cell_type": "code",
   "execution_count": 25,
   "metadata": {
    "collapsed": true
   },
   "outputs": [],
   "source": [
    "def min_func_variance(weights, iteration):\n",
    "    return statistics(weights, iteration)[1] ** 2"
   ]
  },
  {
   "cell_type": "code",
   "execution_count": 26,
   "metadata": {
    "collapsed": true
   },
   "outputs": [],
   "source": [
    "df_mv_weights = copy(data[tickers].iloc[lookback:])\n",
    "df_mv_weights[tickers]  = 0"
   ]
  },
  {
   "cell_type": "code",
   "execution_count": 27,
   "metadata": {
    "scrolled": true
   },
   "outputs": [
    {
     "name": "stderr",
     "output_type": "stream",
     "text": [
      "100%|██████████| 2307/2307 [03:58<00:00, 11.60it/s]\n"
     ]
    }
   ],
   "source": [
    "for iteration in tqdm(df_returns.iloc[lookback:].index):\n",
    "    opts = sco.minimize(min_func_variance, n_tickers * [1. / n_tickers,], iteration, method='SLSQP',\n",
    "                       bounds=bnds, constraints=cons)\n",
    "    df_mv_weights.loc[iteration] = opts['x']"
   ]
  },
  {
   "cell_type": "code",
   "execution_count": 106,
   "metadata": {
    "collapsed": true
   },
   "outputs": [],
   "source": [
    "df_mv_returns = (df_mv_weights.resample(resample_freq).first().asfreq('D', method='ffill').shift(1)*df_returns).sum(axis=1)\n",
    "# return on minimum variance\n",
    "df_returns['MV'] = df_mv_returns"
   ]
  },
  {
   "cell_type": "markdown",
   "metadata": {},
   "source": [
    "### 5. Summary"
   ]
  },
  {
   "cell_type": "code",
   "execution_count": 116,
   "metadata": {
    "scrolled": true
   },
   "outputs": [
    {
     "data": {
      "text/html": [
       "<div>\n",
       "<style scoped>\n",
       "    .dataframe tbody tr th:only-of-type {\n",
       "        vertical-align: middle;\n",
       "    }\n",
       "\n",
       "    .dataframe tbody tr th {\n",
       "        vertical-align: top;\n",
       "    }\n",
       "\n",
       "    .dataframe thead th {\n",
       "        text-align: right;\n",
       "    }\n",
       "</style>\n",
       "<table border=\"1\" class=\"dataframe\">\n",
       "  <thead>\n",
       "    <tr style=\"text-align: right;\">\n",
       "      <th></th>\n",
       "      <th>Bond</th>\n",
       "      <th>Commodity</th>\n",
       "      <th>RP</th>\n",
       "      <th>ERC</th>\n",
       "      <th>EW</th>\n",
       "      <th>MV</th>\n",
       "    </tr>\n",
       "  </thead>\n",
       "  <tbody>\n",
       "    <tr>\n",
       "      <th>Summary Stats:</th>\n",
       "      <td></td>\n",
       "      <td></td>\n",
       "      <td></td>\n",
       "      <td></td>\n",
       "      <td></td>\n",
       "      <td></td>\n",
       "    </tr>\n",
       "    <tr>\n",
       "      <th>Annualized Return</th>\n",
       "      <td>0.33%</td>\n",
       "      <td>0.87%</td>\n",
       "      <td>-0.34%</td>\n",
       "      <td>1.04%</td>\n",
       "      <td>1.77%</td>\n",
       "      <td>-0.35%</td>\n",
       "    </tr>\n",
       "    <tr>\n",
       "      <th>Sharpe</th>\n",
       "      <td>0.22</td>\n",
       "      <td>0.06</td>\n",
       "      <td>-0.20</td>\n",
       "      <td>0.19</td>\n",
       "      <td>0.25</td>\n",
       "      <td>-0.26</td>\n",
       "    </tr>\n",
       "    <tr>\n",
       "      <th>Volatility</th>\n",
       "      <td>0.02</td>\n",
       "      <td>0.16</td>\n",
       "      <td>0.02</td>\n",
       "      <td>0.05</td>\n",
       "      <td>0.07</td>\n",
       "      <td>0.01</td>\n",
       "    </tr>\n",
       "    <tr>\n",
       "      <th>Sortino</th>\n",
       "      <td>0.36</td>\n",
       "      <td>0.09</td>\n",
       "      <td>-0.32</td>\n",
       "      <td>0.30</td>\n",
       "      <td>0.41</td>\n",
       "      <td>-0.41</td>\n",
       "    </tr>\n",
       "    <tr>\n",
       "      <th>Max Drawdown</th>\n",
       "      <td>-9.72%</td>\n",
       "      <td>-51.94%</td>\n",
       "      <td>-8.35%</td>\n",
       "      <td>-19.31%</td>\n",
       "      <td>-29.09%</td>\n",
       "      <td>-8.32%</td>\n",
       "    </tr>\n",
       "    <tr>\n",
       "      <th>Monthly Perf. Metrics:</th>\n",
       "      <td></td>\n",
       "      <td></td>\n",
       "      <td></td>\n",
       "      <td></td>\n",
       "      <td></td>\n",
       "      <td></td>\n",
       "    </tr>\n",
       "    <tr>\n",
       "      <th>Sharpe</th>\n",
       "      <td>0.13</td>\n",
       "      <td>0.05</td>\n",
       "      <td>-0.15</td>\n",
       "      <td>0.18</td>\n",
       "      <td>0.24</td>\n",
       "      <td>-0.16</td>\n",
       "    </tr>\n",
       "    <tr>\n",
       "      <th>Sortino</th>\n",
       "      <td>0.23</td>\n",
       "      <td>0.08</td>\n",
       "      <td>-0.25</td>\n",
       "      <td>0.25</td>\n",
       "      <td>0.45</td>\n",
       "      <td>-0.25</td>\n",
       "    </tr>\n",
       "    <tr>\n",
       "      <th>Calmar</th>\n",
       "      <td>-0.07</td>\n",
       "      <td>1.36</td>\n",
       "      <td>0.19</td>\n",
       "      <td>0.54</td>\n",
       "      <td>1.14</td>\n",
       "      <td>-0.04</td>\n",
       "    </tr>\n",
       "    <tr>\n",
       "      <th>Annual Returns:</th>\n",
       "      <td></td>\n",
       "      <td></td>\n",
       "      <td></td>\n",
       "      <td></td>\n",
       "      <td></td>\n",
       "      <td></td>\n",
       "    </tr>\n",
       "    <tr>\n",
       "      <th>2008</th>\n",
       "      <td>7.35%</td>\n",
       "      <td>-33.41%</td>\n",
       "      <td>0.00%</td>\n",
       "      <td>-15.39%</td>\n",
       "      <td>0.00%</td>\n",
       "      <td>0.00%</td>\n",
       "    </tr>\n",
       "    <tr>\n",
       "      <th>2009</th>\n",
       "      <td>-3.06%</td>\n",
       "      <td>60.68%</td>\n",
       "      <td>0.23%</td>\n",
       "      <td>25.40%</td>\n",
       "      <td>15.52%</td>\n",
       "      <td>-1.21%</td>\n",
       "    </tr>\n",
       "    <tr>\n",
       "      <th>2010</th>\n",
       "      <td>-1.72%</td>\n",
       "      <td>12.04%</td>\n",
       "      <td>-0.86%</td>\n",
       "      <td>5.29%</td>\n",
       "      <td>5.29%</td>\n",
       "      <td>-1.66%</td>\n",
       "    </tr>\n",
       "    <tr>\n",
       "      <th>2011</th>\n",
       "      <td>1.33%</td>\n",
       "      <td>-16.96%</td>\n",
       "      <td>0.09%</td>\n",
       "      <td>-0.98%</td>\n",
       "      <td>-7.98%</td>\n",
       "      <td>1.23%</td>\n",
       "    </tr>\n",
       "    <tr>\n",
       "      <th>2012</th>\n",
       "      <td>-1.03%</td>\n",
       "      <td>4.22%</td>\n",
       "      <td>-0.54%</td>\n",
       "      <td>-0.15%</td>\n",
       "      <td>1.71%</td>\n",
       "      <td>-0.86%</td>\n",
       "    </tr>\n",
       "    <tr>\n",
       "      <th>2013</th>\n",
       "      <td>-4.97%</td>\n",
       "      <td>-12.37%</td>\n",
       "      <td>-5.64%</td>\n",
       "      <td>-6.12%</td>\n",
       "      <td>-8.63%</td>\n",
       "      <td>-5.40%</td>\n",
       "    </tr>\n",
       "    <tr>\n",
       "      <th>2014</th>\n",
       "      <td>5.65%</td>\n",
       "      <td>-16.54%</td>\n",
       "      <td>1.95%</td>\n",
       "      <td>0.99%</td>\n",
       "      <td>-5.98%</td>\n",
       "      <td>4.64%</td>\n",
       "    </tr>\n",
       "    <tr>\n",
       "      <th>2015</th>\n",
       "      <td>3.45%</td>\n",
       "      <td>-14.52%</td>\n",
       "      <td>0.35%</td>\n",
       "      <td>-0.30%</td>\n",
       "      <td>-5.75%</td>\n",
       "      <td>2.69%</td>\n",
       "    </tr>\n",
       "    <tr>\n",
       "      <th>2016</th>\n",
       "      <td>-2.40%</td>\n",
       "      <td>51.34%</td>\n",
       "      <td>0.92%</td>\n",
       "      <td>4.56%</td>\n",
       "      <td>22.07%</td>\n",
       "      <td>-1.84%</td>\n",
       "    </tr>\n",
       "    <tr>\n",
       "      <th>2017</th>\n",
       "      <td>-3.43%</td>\n",
       "      <td>7.85%</td>\n",
       "      <td>-2.32%</td>\n",
       "      <td>-1.55%</td>\n",
       "      <td>2.41%</td>\n",
       "      <td>-3.41%</td>\n",
       "    </tr>\n",
       "    <tr>\n",
       "      <th>2018</th>\n",
       "      <td>2.78%</td>\n",
       "      <td>2.74%</td>\n",
       "      <td>2.82%</td>\n",
       "      <td>2.83%</td>\n",
       "      <td>2.87%</td>\n",
       "      <td>2.82%</td>\n",
       "    </tr>\n",
       "    <tr>\n",
       "      <th>Annual Max DD:</th>\n",
       "      <td></td>\n",
       "      <td></td>\n",
       "      <td></td>\n",
       "      <td></td>\n",
       "      <td></td>\n",
       "      <td></td>\n",
       "    </tr>\n",
       "    <tr>\n",
       "      <th>2008</th>\n",
       "      <td>-0.54%</td>\n",
       "      <td>-39.17%</td>\n",
       "      <td>0.00%</td>\n",
       "      <td>-19.31%</td>\n",
       "      <td>0.00%</td>\n",
       "      <td>0.00%</td>\n",
       "    </tr>\n",
       "    <tr>\n",
       "      <th>2009</th>\n",
       "      <td>-3.74%</td>\n",
       "      <td>-8.56%</td>\n",
       "      <td>-1.42%</td>\n",
       "      <td>-4.30%</td>\n",
       "      <td>-4.30%</td>\n",
       "      <td>-1.76%</td>\n",
       "    </tr>\n",
       "    <tr>\n",
       "      <th>2010</th>\n",
       "      <td>-3.91%</td>\n",
       "      <td>-15.46%</td>\n",
       "      <td>-3.04%</td>\n",
       "      <td>-7.25%</td>\n",
       "      <td>-7.25%</td>\n",
       "      <td>-3.81%</td>\n",
       "    </tr>\n",
       "    <tr>\n",
       "      <th>2011</th>\n",
       "      <td>-2.10%</td>\n",
       "      <td>-23.30%</td>\n",
       "      <td>-2.64%</td>\n",
       "      <td>-5.40%</td>\n",
       "      <td>-12.28%</td>\n",
       "      <td>-2.12%</td>\n",
       "    </tr>\n",
       "    <tr>\n",
       "      <th>2012</th>\n",
       "      <td>-2.29%</td>\n",
       "      <td>-10.48%</td>\n",
       "      <td>-1.87%</td>\n",
       "      <td>-1.90%</td>\n",
       "      <td>-4.76%</td>\n",
       "      <td>-2.15%</td>\n",
       "    </tr>\n",
       "    <tr>\n",
       "      <th>2013</th>\n",
       "      <td>-5.66%</td>\n",
       "      <td>-16.86%</td>\n",
       "      <td>-6.06%</td>\n",
       "      <td>-6.69%</td>\n",
       "      <td>-9.95%</td>\n",
       "      <td>-5.76%</td>\n",
       "    </tr>\n",
       "    <tr>\n",
       "      <th>2014</th>\n",
       "      <td>-1.94%</td>\n",
       "      <td>-19.41%</td>\n",
       "      <td>-2.03%</td>\n",
       "      <td>-2.39%</td>\n",
       "      <td>-7.74%</td>\n",
       "      <td>-1.91%</td>\n",
       "    </tr>\n",
       "    <tr>\n",
       "      <th>2015</th>\n",
       "      <td>-1.78%</td>\n",
       "      <td>-21.99%</td>\n",
       "      <td>-3.40%</td>\n",
       "      <td>-4.28%</td>\n",
       "      <td>-11.00%</td>\n",
       "      <td>-1.83%</td>\n",
       "    </tr>\n",
       "    <tr>\n",
       "      <th>2016</th>\n",
       "      <td>-3.72%</td>\n",
       "      <td>-13.24%</td>\n",
       "      <td>-3.21%</td>\n",
       "      <td>-2.90%</td>\n",
       "      <td>-6.81%</td>\n",
       "      <td>-3.46%</td>\n",
       "    </tr>\n",
       "    <tr>\n",
       "      <th>2017</th>\n",
       "      <td>-3.44%</td>\n",
       "      <td>-16.08%</td>\n",
       "      <td>-2.99%</td>\n",
       "      <td>-4.02%</td>\n",
       "      <td>-9.01%</td>\n",
       "      <td>-3.45%</td>\n",
       "    </tr>\n",
       "    <tr>\n",
       "      <th>2018</th>\n",
       "      <td>-1.01%</td>\n",
       "      <td>-9.35%</td>\n",
       "      <td>-0.94%</td>\n",
       "      <td>-1.04%</td>\n",
       "      <td>-4.50%</td>\n",
       "      <td>-1.00%</td>\n",
       "    </tr>\n",
       "  </tbody>\n",
       "</table>\n",
       "</div>"
      ],
      "text/plain": [
       "                          Bond Commodity      RP      ERC       EW      MV\n",
       "Summary Stats:                                                            \n",
       "Annualized Return        0.33%     0.87%  -0.34%    1.04%    1.77%  -0.35%\n",
       "Sharpe                    0.22      0.06   -0.20     0.19     0.25   -0.26\n",
       "Volatility                0.02      0.16    0.02     0.05     0.07    0.01\n",
       "Sortino                   0.36      0.09   -0.32     0.30     0.41   -0.41\n",
       "Max Drawdown            -9.72%   -51.94%  -8.35%  -19.31%  -29.09%  -8.32%\n",
       "Monthly Perf. Metrics:                                                    \n",
       "Sharpe                    0.13      0.05   -0.15     0.18     0.24   -0.16\n",
       "Sortino                   0.23      0.08   -0.25     0.25     0.45   -0.25\n",
       "Calmar                   -0.07      1.36    0.19     0.54     1.14   -0.04\n",
       "Annual Returns:                                                           \n",
       "2008                     7.35%   -33.41%   0.00%  -15.39%    0.00%   0.00%\n",
       "2009                    -3.06%    60.68%   0.23%   25.40%   15.52%  -1.21%\n",
       "2010                    -1.72%    12.04%  -0.86%    5.29%    5.29%  -1.66%\n",
       "2011                     1.33%   -16.96%   0.09%   -0.98%   -7.98%   1.23%\n",
       "2012                    -1.03%     4.22%  -0.54%   -0.15%    1.71%  -0.86%\n",
       "2013                    -4.97%   -12.37%  -5.64%   -6.12%   -8.63%  -5.40%\n",
       "2014                     5.65%   -16.54%   1.95%    0.99%   -5.98%   4.64%\n",
       "2015                     3.45%   -14.52%   0.35%   -0.30%   -5.75%   2.69%\n",
       "2016                    -2.40%    51.34%   0.92%    4.56%   22.07%  -1.84%\n",
       "2017                    -3.43%     7.85%  -2.32%   -1.55%    2.41%  -3.41%\n",
       "2018                     2.78%     2.74%   2.82%    2.83%    2.87%   2.82%\n",
       "Annual Max DD:                                                            \n",
       "2008                    -0.54%   -39.17%   0.00%  -19.31%    0.00%   0.00%\n",
       "2009                    -3.74%    -8.56%  -1.42%   -4.30%   -4.30%  -1.76%\n",
       "2010                    -3.91%   -15.46%  -3.04%   -7.25%   -7.25%  -3.81%\n",
       "2011                    -2.10%   -23.30%  -2.64%   -5.40%  -12.28%  -2.12%\n",
       "2012                    -2.29%   -10.48%  -1.87%   -1.90%   -4.76%  -2.15%\n",
       "2013                    -5.66%   -16.86%  -6.06%   -6.69%   -9.95%  -5.76%\n",
       "2014                    -1.94%   -19.41%  -2.03%   -2.39%   -7.74%  -1.91%\n",
       "2015                    -1.78%   -21.99%  -3.40%   -4.28%  -11.00%  -1.83%\n",
       "2016                    -3.72%   -13.24%  -3.21%   -2.90%   -6.81%  -3.46%\n",
       "2017                    -3.44%   -16.08%  -2.99%   -4.02%   -9.01%  -3.45%\n",
       "2018                    -1.01%    -9.35%  -0.94%   -1.04%   -4.50%  -1.00%"
      ]
     },
     "execution_count": 116,
     "metadata": {},
     "output_type": "execute_result"
    }
   ],
   "source": [
    "to_summary(df_returns)"
   ]
  },
  {
   "cell_type": "markdown",
   "metadata": {},
   "source": [
    "债券和商品组合，等权重组合的年化收益率为 1.77%，年化波动率为 0.07，夏普比 率为0.25，最大回撤为29.09%；最小方差组合的年化收益率为-0.35%，年化波动率为0.01， 夏普比率为 -0.26，最大回撤为 8.32%；简单风险平价组合的年化收益率为 -0.34%，年化波动率为 0.02，夏普比率为 -0.20，最大回撤为 8.35%；最优风险平价组合的年化收益率为 1.04%， 年化波动率为 0.05，夏普比率为 0.19，最大回撤为 19.31%。"
   ]
  },
  {
   "cell_type": "code",
   "execution_count": 90,
   "metadata": {
    "scrolled": false
   },
   "outputs": [
    {
     "data": {
      "text/plain": [
       "<matplotlib.text.Text at 0x7f52d6d2ff98>"
      ]
     },
     "execution_count": 90,
     "metadata": {},
     "output_type": "execute_result"
    },
    {
     "data": {
      "text/plain": [
       "<matplotlib.figure.Figure at 0x7f52dd8455c0>"
      ]
     },
     "metadata": {},
     "output_type": "display_data"
    },
    {
     "data": {
      "image/png": "[encoded data removed]",
      "text/plain": [
       "<matplotlib.figure.Figure at 0x7f52d6c532e8>"
      ]
     },
     "metadata": {},
     "output_type": "display_data"
    }
   ],
   "source": [
    "plt.figure()\n",
    "plt.rcParams['figure.figsize'] = (10, 8)\n",
    "np.cumprod(1+df_returns.iloc[lookback:]).plot()\n",
    "plt.legend(loc='best')\n",
    "#plt.yscale('log')\n",
    "plt.suptitle('Cumulative % Returns', fontsize=18)\n"
   ]
  },
  {
   "cell_type": "markdown",
   "metadata": {
    "collapsed": true
   },
   "source": [
    "等权重策略在资产配置时仅考虑了权重的分散性，而并未考虑资产风险；最小方差组合仅考 虑了资产风险贡献进而使组合风险最小，而未考虑风险的分散性。在此背景下，风险平价策略有效弥补了二者在配置分散化方面的局限。等权组合波动性最大，最优风险平价走势和波动都比较稳，其当前给出的组合权重分别为债券 0.82和商品 0.18。\n",
    "\n",
    "- 风险平价是一种资金配置方法\n",
    "\n",
    "按对投资组合风险贡献相等的原则，将资金配置给各类资产。依据所选择的整体风险水平不同，这通常的结果是权益配置较低，而对固定收益资产有杠杆敞口。\n",
    "\n",
    "- 当前利率趋升的环境给风险平价带来问题 \n",
    "\n",
    "虽然过去一个世纪央行大放水，押低利率，给债券带来了利好，但是风险平价存在一些令人担忧的问题，在利率上升的情况下，整体表现下滑，当收益率跳升时，风险平价可能会放大固定收益资产的跌幅。在未来十年， 随着美联储撤出量化宽松并进入加息周期，中国央行跟随加息，这可能会导致债券收益率大幅走升，损及有杠杆的固定收益投资组合。\n",
    "\n",
    "- 改进：\n",
    "\n",
    "在只有债券和商品两个标的的情况下，我们的组合收益缺少权益类资产带来的增长带动效应，因此在另一篇文章中我将尝试把沪深300纳入组合当中。\n",
    "\n",
    "因为考虑到当前的经济形式，并将Target Risk 设置在个相应的档位，再加上择时，对风险平价策略会更有帮助。\n"
   ]
  },
  {
   "cell_type": "code",
   "execution_count": null,
   "metadata": {
    "collapsed": true
   },
   "outputs": [],
   "source": []
  }
 ],
 "metadata": {
  "kernelspec": {
   "display_name": "Python 3",
   "language": "python",
   "name": "python3"
  },
  "language_info": {
   "codemirror_mode": {
    "name": "ipython",
    "version": 3
   },
   "file_extension": ".py",
   "mimetype": "text/x-python",
   "name": "python",
   "nbconvert_exporter": "python",
   "pygments_lexer": "ipython3",
   "version": "3.6.1"
  }
 },
 "nbformat": 4,
 "nbformat_minor": 2
}
